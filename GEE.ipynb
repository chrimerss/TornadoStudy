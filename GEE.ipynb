{
 "cells": [
  {
   "cell_type": "code",
   "execution_count": 1,
   "id": "cba9eb67-4331-45bd-bf34-39fd69db6e57",
   "metadata": {},
   "outputs": [],
   "source": [
    "import ee\n",
    "import geemap\n",
    "import matplotlib.pyplot as plt\n",
    "import numpy as np\n",
    "import pandas as pd\n",
    "import geopandas as gpd"
   ]
  },
  {
   "cell_type": "code",
   "execution_count": 17,
   "id": "84592405-42e3-446f-b13d-ab96ec7f76a7",
   "metadata": {},
   "outputs": [],
   "source": [
    "import folium\n",
    "from folium.plugins import HeatMap\n",
    "import webbrowser"
   ]
  },
  {
   "cell_type": "code",
   "execution_count": 18,
   "id": "0a7c1ddf-1ca2-4e32-84e5-01e1adabc505",
   "metadata": {},
   "outputs": [],
   "source": [
    "import warnings\n",
    "warnings.filterwarnings(\"ignore\")"
   ]
  },
  {
   "cell_type": "code",
   "execution_count": 2,
   "id": "e00865e6-a6c1-48f4-bb49-223f09c6944d",
   "metadata": {},
   "outputs": [],
   "source": [
    "ee.Initialize()"
   ]
  },
  {
   "cell_type": "markdown",
   "id": "05107588-bacd-476e-a78d-2bc7da7bed57",
   "metadata": {},
   "source": [
    "df= pd.read_csv('extracted_tornado.csv')"
   ]
  },
  {
   "cell_type": "markdown",
   "id": "9a76d339-8c76-42d2-9021-a7c5b2def51b",
   "metadata": {},
   "source": [
    "gdf= gpd.GeoDataFrame(df, geometry=gpd.points_from_xy(df.BEGIN_LON, df.BEGIN_LAT))"
   ]
  },
  {
   "cell_type": "code",
   "execution_count": 3,
   "id": "002e0e9a-41f3-4305-b7f7-2d323225ea65",
   "metadata": {},
   "outputs": [],
   "source": [
    "gdf= gpd.read_file('tornado_loc.shp')"
   ]
  },
  {
   "cell_type": "code",
   "execution_count": 4,
   "id": "56a40a03-e411-41e0-bbf5-0d6dcf44abd4",
   "metadata": {},
   "outputs": [],
   "source": [
    "gdf['year']= gdf.BEGIN_YEAR//100"
   ]
  },
  {
   "cell_type": "code",
   "execution_count": 5,
   "id": "e003f304-e594-4385-acd3-d5a3243df5ba",
   "metadata": {},
   "outputs": [],
   "source": [
    "gdf['LandCover_Begin']= None\n",
    "gdf['LandUse_Begin']= None"
   ]
  },
  {
   "cell_type": "code",
   "execution_count": 6,
   "id": "98f86310-8c75-41ea-a07a-f51d92752bdd",
   "metadata": {},
   "outputs": [],
   "source": [
    "gdf= gdf[~pd.isna(gdf.BEGIN_LON)]"
   ]
  },
  {
   "cell_type": "code",
   "execution_count": 7,
   "id": "72638887-f701-4b6a-8733-937d1ec04b48",
   "metadata": {
    "scrolled": true,
    "tags": []
   },
   "outputs": [],
   "source": [
    "ee_values= {'landcover':[], 'landuse':[],'coords':[]}\n",
    "for year in gdf.year.unique():\n",
    "    if year<=1985:\n",
    "        tar_year= 1985\n",
    "    else: tar_year=year\n",
    "    \n",
    "    landcover= ee.Image('USFS/GTAC/LCMS/v2020-5/LCMS_CONUS_v2020-5_%d'%tar_year).select(1)\n",
    "    landuse= ee.Image('USFS/GTAC/LCMS/v2020-5/LCMS_CONUS_v2020-5_%d'%tar_year).select(2)        \n",
    "    _gdf= gdf[gdf.year==year]\n",
    "    points= ee.Geometry.MultiPoint([[_gdf.iloc[j].BEGIN_LON, _gdf.iloc[j].BEGIN_LAT] for j in range(len(_gdf))])\n",
    "    return_js= landcover.sampleRegions(collection=points, scale=30, geometries=True)\n",
    "    return_dict= return_js.getInfo()\n",
    "    lcs= [feature['properties']['Land_Cover'] for feature in return_dict['features']]\n",
    "    return_js= landuse.sampleRegions(collection=points, scale=30, geometries=True)\n",
    "    return_dict= return_js.getInfo()    \n",
    "    lus= [feature['properties']['Land_Use'] for feature in return_dict['features']]\n",
    "    coords= [feature['geometry']['coordinates'] for feature in return_dict['features']]\n",
    "    ee_values['landcover'].append(lcs)\n",
    "    ee_values['landuse'].append(lus)\n",
    "    ee_values['coords'].append(coords)\n",
    "    \n",
    "coords= sum(ee_values['coords'],[])\n",
    "lus= sum(ee_values['landuse'],[])\n",
    "lcs=sum(ee_values['landcover'],[])\n",
    "\n",
    "# for i, [lon, lat] in enumerate(coords):\n",
    "#     inds= gdf[(abs(gdf.BEGIN_LON-lon)<1e-4) & (abs(gdf.BEGIN_LAT-lat)<1e-4)].index\n",
    "#     gdf.loc[inds,'LandCover']= lcs[i]    \n",
    "#     gdf.loc[inds,'LandUse']= lus[i]"
   ]
  },
  {
   "cell_type": "code",
   "execution_count": 8,
   "id": "3eefa73b-3b69-4197-892e-b611646d7233",
   "metadata": {},
   "outputs": [],
   "source": [
    "for i, [lon, lat] in enumerate(coords):\n",
    "    inds= gdf[(abs(gdf.BEGIN_LON-lon)<1e-3) & (abs(gdf.BEGIN_LAT-lat)<1e-3)].index\n",
    "    gdf.loc[inds,'LandCover_Begin']= lcs[i]    \n",
    "    gdf.loc[inds,'LandUse_Begin']= lus[i]"
   ]
  },
  {
   "cell_type": "code",
   "execution_count": 9,
   "id": "4060caa2-a3ed-436b-bfb9-ea696e74b392",
   "metadata": {},
   "outputs": [],
   "source": [
    "gdf['LandCover_End']= None\n",
    "gdf['LandUse_End']= None"
   ]
  },
  {
   "cell_type": "code",
   "execution_count": 10,
   "id": "e199555a-8e71-4d2b-a5ef-08589d59533d",
   "metadata": {},
   "outputs": [],
   "source": [
    "ee_values= {'landcover':[], 'landuse':[],'coords':[]}\n",
    "for year in gdf.year.unique():\n",
    "    if year<=1985:\n",
    "        tar_year= 1985\n",
    "    else: tar_year=year\n",
    "    \n",
    "    landcover= ee.Image('USFS/GTAC/LCMS/v2020-5/LCMS_CONUS_v2020-5_%d'%tar_year).select(1)\n",
    "    landuse= ee.Image('USFS/GTAC/LCMS/v2020-5/LCMS_CONUS_v2020-5_%d'%tar_year).select(2)        \n",
    "    _gdf= gdf[gdf.year==year]\n",
    "    points= ee.Geometry.MultiPoint([[_gdf.iloc[j].END_LON, _gdf.iloc[j].END_LAT] for j in range(len(_gdf)) if not pd.isna(_gdf.iloc[j].END_LON)])\n",
    "    return_js= landcover.sampleRegions(collection=points, scale=30, geometries=True)\n",
    "    return_dict= return_js.getInfo()\n",
    "    lcs= [feature['properties']['Land_Cover'] for feature in return_dict['features']]\n",
    "    return_js= landuse.sampleRegions(collection=points, scale=30, geometries=True)\n",
    "    return_dict= return_js.getInfo()    \n",
    "    lus= [feature['properties']['Land_Use'] for feature in return_dict['features']]\n",
    "    coords= [feature['geometry']['coordinates'] for feature in return_dict['features']]\n",
    "    ee_values['landcover'].append(lcs)\n",
    "    ee_values['landuse'].append(lus)\n",
    "    ee_values['coords'].append(coords)\n",
    "    \n",
    "coords= sum(ee_values['coords'],[])\n",
    "lus= sum(ee_values['landuse'],[])\n",
    "lcs=sum(ee_values['landcover'],[])"
   ]
  },
  {
   "cell_type": "code",
   "execution_count": 11,
   "id": "b30b0cf2-3386-45cf-8dea-cdf22be8d36a",
   "metadata": {},
   "outputs": [],
   "source": [
    "for i, [lon, lat] in enumerate(coords):\n",
    "    inds= gdf[(abs(gdf.END_LON-lon)<1e-3) & (abs(gdf.END_LAT-lat)<1e-3)].index\n",
    "    gdf.loc[inds,'LandCover_End']= lcs[i]    \n",
    "    gdf.loc[inds,'LandUse_End']= lus[i]"
   ]
  },
  {
   "cell_type": "code",
   "execution_count": 12,
   "id": "ea3880cd-8b51-413c-bc6b-06c72a136eff",
   "metadata": {},
   "outputs": [
    {
     "data": {
      "text/html": [
       "<div>\n",
       "<style scoped>\n",
       "    .dataframe tbody tr th:only-of-type {\n",
       "        vertical-align: middle;\n",
       "    }\n",
       "\n",
       "    .dataframe tbody tr th {\n",
       "        vertical-align: top;\n",
       "    }\n",
       "\n",
       "    .dataframe thead th {\n",
       "        text-align: right;\n",
       "    }\n",
       "</style>\n",
       "<table border=\"1\" class=\"dataframe\">\n",
       "  <thead>\n",
       "    <tr style=\"text-align: right;\">\n",
       "      <th></th>\n",
       "      <th>Unnamed_ 0</th>\n",
       "      <th>BEGIN_YEAR</th>\n",
       "      <th>BEGIN_DAY</th>\n",
       "      <th>BEGIN_TIME</th>\n",
       "      <th>END_YEARMO</th>\n",
       "      <th>END_DAY</th>\n",
       "      <th>END_TIME</th>\n",
       "      <th>EPISODE_ID</th>\n",
       "      <th>EVENT_ID</th>\n",
       "      <th>STATE</th>\n",
       "      <th>...</th>\n",
       "      <th>DATA_SOURC</th>\n",
       "      <th>year_1</th>\n",
       "      <th>LandCover</th>\n",
       "      <th>LandUse</th>\n",
       "      <th>geometry</th>\n",
       "      <th>year</th>\n",
       "      <th>LandCover_Begin</th>\n",
       "      <th>LandUse_Begin</th>\n",
       "      <th>LandCover_End</th>\n",
       "      <th>LandUse_End</th>\n",
       "    </tr>\n",
       "  </thead>\n",
       "  <tbody>\n",
       "    <tr>\n",
       "      <th>0</th>\n",
       "      <td>0</td>\n",
       "      <td>195004</td>\n",
       "      <td>28</td>\n",
       "      <td>1445</td>\n",
       "      <td>195004</td>\n",
       "      <td>28</td>\n",
       "      <td>1445</td>\n",
       "      <td>NaN</td>\n",
       "      <td>10096222</td>\n",
       "      <td>OKLAHOMA</td>\n",
       "      <td>...</td>\n",
       "      <td>PUB</td>\n",
       "      <td>1950</td>\n",
       "      <td>10</td>\n",
       "      <td>1</td>\n",
       "      <td>POINT (-99.20000 35.12000)</td>\n",
       "      <td>1950</td>\n",
       "      <td>15</td>\n",
       "      <td>1</td>\n",
       "      <td>15</td>\n",
       "      <td>1</td>\n",
       "    </tr>\n",
       "    <tr>\n",
       "      <th>1</th>\n",
       "      <td>1</td>\n",
       "      <td>195004</td>\n",
       "      <td>29</td>\n",
       "      <td>1530</td>\n",
       "      <td>195004</td>\n",
       "      <td>29</td>\n",
       "      <td>1530</td>\n",
       "      <td>NaN</td>\n",
       "      <td>10120412</td>\n",
       "      <td>TEXAS</td>\n",
       "      <td>...</td>\n",
       "      <td>PUB</td>\n",
       "      <td>1950</td>\n",
       "      <td>12</td>\n",
       "      <td>7</td>\n",
       "      <td>POINT (-98.60000 31.90000)</td>\n",
       "      <td>1950</td>\n",
       "      <td>15</td>\n",
       "      <td>7</td>\n",
       "      <td>15</td>\n",
       "      <td>7</td>\n",
       "    </tr>\n",
       "    <tr>\n",
       "      <th>2</th>\n",
       "      <td>2</td>\n",
       "      <td>195007</td>\n",
       "      <td>5</td>\n",
       "      <td>1800</td>\n",
       "      <td>195007</td>\n",
       "      <td>5</td>\n",
       "      <td>1800</td>\n",
       "      <td>NaN</td>\n",
       "      <td>10104927</td>\n",
       "      <td>PENNSYLVANIA</td>\n",
       "      <td>...</td>\n",
       "      <td>PUB</td>\n",
       "      <td>1950</td>\n",
       "      <td>10</td>\n",
       "      <td>3</td>\n",
       "      <td>POINT (-75.70000 40.58000)</td>\n",
       "      <td>1950</td>\n",
       "      <td>10</td>\n",
       "      <td>3</td>\n",
       "      <td>10</td>\n",
       "      <td>4</td>\n",
       "    </tr>\n",
       "    <tr>\n",
       "      <th>3</th>\n",
       "      <td>3</td>\n",
       "      <td>195007</td>\n",
       "      <td>5</td>\n",
       "      <td>1830</td>\n",
       "      <td>195007</td>\n",
       "      <td>5</td>\n",
       "      <td>1830</td>\n",
       "      <td>NaN</td>\n",
       "      <td>10104928</td>\n",
       "      <td>PENNSYLVANIA</td>\n",
       "      <td>...</td>\n",
       "      <td>PUB</td>\n",
       "      <td>1950</td>\n",
       "      <td>10</td>\n",
       "      <td>1</td>\n",
       "      <td>POINT (-76.75000 40.60000)</td>\n",
       "      <td>1950</td>\n",
       "      <td>10</td>\n",
       "      <td>1</td>\n",
       "      <td>None</td>\n",
       "      <td>None</td>\n",
       "    </tr>\n",
       "    <tr>\n",
       "      <th>4</th>\n",
       "      <td>4</td>\n",
       "      <td>195007</td>\n",
       "      <td>24</td>\n",
       "      <td>1440</td>\n",
       "      <td>195007</td>\n",
       "      <td>24</td>\n",
       "      <td>1440</td>\n",
       "      <td>NaN</td>\n",
       "      <td>10104929</td>\n",
       "      <td>PENNSYLVANIA</td>\n",
       "      <td>...</td>\n",
       "      <td>PUB</td>\n",
       "      <td>1950</td>\n",
       "      <td>10</td>\n",
       "      <td>2</td>\n",
       "      <td>POINT (-79.68000 41.63000)</td>\n",
       "      <td>1950</td>\n",
       "      <td>1</td>\n",
       "      <td>2</td>\n",
       "      <td>None</td>\n",
       "      <td>None</td>\n",
       "    </tr>\n",
       "    <tr>\n",
       "      <th>...</th>\n",
       "      <td>...</td>\n",
       "      <td>...</td>\n",
       "      <td>...</td>\n",
       "      <td>...</td>\n",
       "      <td>...</td>\n",
       "      <td>...</td>\n",
       "      <td>...</td>\n",
       "      <td>...</td>\n",
       "      <td>...</td>\n",
       "      <td>...</td>\n",
       "      <td>...</td>\n",
       "      <td>...</td>\n",
       "      <td>...</td>\n",
       "      <td>...</td>\n",
       "      <td>...</td>\n",
       "      <td>...</td>\n",
       "      <td>...</td>\n",
       "      <td>...</td>\n",
       "      <td>...</td>\n",
       "      <td>...</td>\n",
       "      <td>...</td>\n",
       "    </tr>\n",
       "    <tr>\n",
       "      <th>69199</th>\n",
       "      <td>39717</td>\n",
       "      <td>202006</td>\n",
       "      <td>4</td>\n",
       "      <td>159</td>\n",
       "      <td>202006</td>\n",
       "      <td>4</td>\n",
       "      <td>200</td>\n",
       "      <td>148826.0</td>\n",
       "      <td>896594</td>\n",
       "      <td>MISSOURI</td>\n",
       "      <td>...</td>\n",
       "      <td>CSV</td>\n",
       "      <td>2020</td>\n",
       "      <td>1</td>\n",
       "      <td>2</td>\n",
       "      <td>POINT (-94.33160 38.47190)</td>\n",
       "      <td>2020</td>\n",
       "      <td>1</td>\n",
       "      <td>2</td>\n",
       "      <td>10</td>\n",
       "      <td>3</td>\n",
       "    </tr>\n",
       "    <tr>\n",
       "      <th>69200</th>\n",
       "      <td>39828</td>\n",
       "      <td>202006</td>\n",
       "      <td>28</td>\n",
       "      <td>1954</td>\n",
       "      <td>202006</td>\n",
       "      <td>28</td>\n",
       "      <td>1956</td>\n",
       "      <td>149511.0</td>\n",
       "      <td>901206</td>\n",
       "      <td>MINNESOTA</td>\n",
       "      <td>...</td>\n",
       "      <td>CSV</td>\n",
       "      <td>2020</td>\n",
       "      <td>10</td>\n",
       "      <td>1</td>\n",
       "      <td>POINT (-91.72380 44.03180)</td>\n",
       "      <td>2020</td>\n",
       "      <td>10</td>\n",
       "      <td>1</td>\n",
       "      <td>14</td>\n",
       "      <td>1</td>\n",
       "    </tr>\n",
       "    <tr>\n",
       "      <th>69201</th>\n",
       "      <td>39961</td>\n",
       "      <td>202006</td>\n",
       "      <td>10</td>\n",
       "      <td>1718</td>\n",
       "      <td>202006</td>\n",
       "      <td>10</td>\n",
       "      <td>1724</td>\n",
       "      <td>147398.0</td>\n",
       "      <td>886388</td>\n",
       "      <td>OHIO</td>\n",
       "      <td>...</td>\n",
       "      <td>CSV</td>\n",
       "      <td>2020</td>\n",
       "      <td>10</td>\n",
       "      <td>1</td>\n",
       "      <td>POINT (-83.07910 39.37860)</td>\n",
       "      <td>2020</td>\n",
       "      <td>10</td>\n",
       "      <td>1</td>\n",
       "      <td>10</td>\n",
       "      <td>3</td>\n",
       "    </tr>\n",
       "    <tr>\n",
       "      <th>69202</th>\n",
       "      <td>39964</td>\n",
       "      <td>202006</td>\n",
       "      <td>7</td>\n",
       "      <td>1741</td>\n",
       "      <td>202006</td>\n",
       "      <td>7</td>\n",
       "      <td>1742</td>\n",
       "      <td>147784.0</td>\n",
       "      <td>889521</td>\n",
       "      <td>FLORIDA</td>\n",
       "      <td>...</td>\n",
       "      <td>CSV</td>\n",
       "      <td>2020</td>\n",
       "      <td>14</td>\n",
       "      <td>5</td>\n",
       "      <td>POINT (-81.70400 28.79140)</td>\n",
       "      <td>2020</td>\n",
       "      <td>1</td>\n",
       "      <td>5</td>\n",
       "      <td>1</td>\n",
       "      <td>3</td>\n",
       "    </tr>\n",
       "    <tr>\n",
       "      <th>69203</th>\n",
       "      <td>40010</td>\n",
       "      <td>202006</td>\n",
       "      <td>2</td>\n",
       "      <td>1402</td>\n",
       "      <td>202006</td>\n",
       "      <td>2</td>\n",
       "      <td>1405</td>\n",
       "      <td>148832.0</td>\n",
       "      <td>904958</td>\n",
       "      <td>KANSAS</td>\n",
       "      <td>...</td>\n",
       "      <td>CSV</td>\n",
       "      <td>2020</td>\n",
       "      <td>10</td>\n",
       "      <td>1</td>\n",
       "      <td>POINT (-101.75210 38.80310)</td>\n",
       "      <td>2020</td>\n",
       "      <td>10</td>\n",
       "      <td>1</td>\n",
       "      <td>10</td>\n",
       "      <td>1</td>\n",
       "    </tr>\n",
       "  </tbody>\n",
       "</table>\n",
       "<p>69204 rows × 61 columns</p>\n",
       "</div>"
      ],
      "text/plain": [
       "       Unnamed_ 0  BEGIN_YEAR  BEGIN_DAY  BEGIN_TIME  END_YEARMO  END_DAY  \\\n",
       "0               0      195004         28        1445      195004       28   \n",
       "1               1      195004         29        1530      195004       29   \n",
       "2               2      195007          5        1800      195007        5   \n",
       "3               3      195007          5        1830      195007        5   \n",
       "4               4      195007         24        1440      195007       24   \n",
       "...           ...         ...        ...         ...         ...      ...   \n",
       "69199       39717      202006          4         159      202006        4   \n",
       "69200       39828      202006         28        1954      202006       28   \n",
       "69201       39961      202006         10        1718      202006       10   \n",
       "69202       39964      202006          7        1741      202006        7   \n",
       "69203       40010      202006          2        1402      202006        2   \n",
       "\n",
       "       END_TIME  EPISODE_ID  EVENT_ID         STATE  ...  DATA_SOURC  year_1  \\\n",
       "0          1445         NaN  10096222      OKLAHOMA  ...         PUB    1950   \n",
       "1          1530         NaN  10120412         TEXAS  ...         PUB    1950   \n",
       "2          1800         NaN  10104927  PENNSYLVANIA  ...         PUB    1950   \n",
       "3          1830         NaN  10104928  PENNSYLVANIA  ...         PUB    1950   \n",
       "4          1440         NaN  10104929  PENNSYLVANIA  ...         PUB    1950   \n",
       "...         ...         ...       ...           ...  ...         ...     ...   \n",
       "69199       200    148826.0    896594      MISSOURI  ...         CSV    2020   \n",
       "69200      1956    149511.0    901206     MINNESOTA  ...         CSV    2020   \n",
       "69201      1724    147398.0    886388          OHIO  ...         CSV    2020   \n",
       "69202      1742    147784.0    889521       FLORIDA  ...         CSV    2020   \n",
       "69203      1405    148832.0    904958        KANSAS  ...         CSV    2020   \n",
       "\n",
       "      LandCover LandUse                     geometry  year LandCover_Begin  \\\n",
       "0            10       1   POINT (-99.20000 35.12000)  1950              15   \n",
       "1            12       7   POINT (-98.60000 31.90000)  1950              15   \n",
       "2            10       3   POINT (-75.70000 40.58000)  1950              10   \n",
       "3            10       1   POINT (-76.75000 40.60000)  1950              10   \n",
       "4            10       2   POINT (-79.68000 41.63000)  1950               1   \n",
       "...         ...     ...                          ...   ...             ...   \n",
       "69199         1       2   POINT (-94.33160 38.47190)  2020               1   \n",
       "69200        10       1   POINT (-91.72380 44.03180)  2020              10   \n",
       "69201        10       1   POINT (-83.07910 39.37860)  2020              10   \n",
       "69202        14       5   POINT (-81.70400 28.79140)  2020               1   \n",
       "69203        10       1  POINT (-101.75210 38.80310)  2020              10   \n",
       "\n",
       "      LandUse_Begin LandCover_End LandUse_End  \n",
       "0                 1            15           1  \n",
       "1                 7            15           7  \n",
       "2                 3            10           4  \n",
       "3                 1          None        None  \n",
       "4                 2          None        None  \n",
       "...             ...           ...         ...  \n",
       "69199             2            10           3  \n",
       "69200             1            14           1  \n",
       "69201             1            10           3  \n",
       "69202             5             1           3  \n",
       "69203             1            10           1  \n",
       "\n",
       "[69204 rows x 61 columns]"
      ]
     },
     "execution_count": 12,
     "metadata": {},
     "output_type": "execute_result"
    }
   ],
   "source": [
    "gdf"
   ]
  },
  {
   "cell_type": "code",
   "execution_count": 12,
   "id": "679acfb4-3eb4-417b-b858-6cdac37010f0",
   "metadata": {},
   "outputs": [],
   "source": [
    "landcover_mapper= {\n",
    "1: \"Trees\",\n",
    "2: \"Tall Shrubs & Trees Mix (SEAK Only)\",\n",
    "3: \"Shrubs & Trees Mix\",\n",
    "4: \"Grass/Forb/Herb & Trees Mix\",\n",
    "5: \"Barren & Trees Mix\",\n",
    "6: \"Tall Shrubs (SEAK Only)\",\n",
    "7: \"Shrubs\",\n",
    "8: \"Grass/Forb/Herb & Shrubs Mix\",\n",
    "9: \"Barren & Shrubs Mix\",\n",
    "10:\"Grass/Forb/Herb\",\n",
    "11:\"Barren & Grass/Forb/Herb Mix\",\n",
    "12:\"Barren or Impervious\",\n",
    "13:\"Snow or Ice\",\n",
    "14:\"Water\",\n",
    "15:\"Non-Processing Area Mask\"\n",
    "}\n",
    "\n",
    "landuse_mapper = {\n",
    "1: \"Agriculture\",\n",
    "2: \"Developed\",\n",
    "3: \"Forest\",\n",
    "4: \"Non-Forest Wetland\",\n",
    "5: \"Other\",\n",
    "6: \"Rangeland or Pasture\",\n",
    "7: \"Non-Processing Area Mask\",\n",
    "}"
   ]
  },
  {
   "cell_type": "code",
   "execution_count": 13,
   "id": "043d3b99-8812-4cc1-9d66-0320df646f10",
   "metadata": {},
   "outputs": [
    {
     "name": "stderr",
     "output_type": "stream",
     "text": [
      "/var/folders/c7/5k73klb12cg2ysz6c890vdm00000gn/T/ipykernel_41069/2274426073.py:1: UserWarning: Column names longer than 10 characters will be truncated when saved to ESRI Shapefile.\n",
      "  gdf.to_file('tornado_loc.shp')\n"
     ]
    }
   ],
   "source": [
    "gdf.to_file('tornado_loc.shp')"
   ]
  },
  {
   "cell_type": "code",
   "execution_count": 13,
   "id": "db7b6005-d1d8-45d4-8456-dded7a67816a",
   "metadata": {},
   "outputs": [
    {
     "data": {
      "text/plain": [
       "0             Grass/Forb/Herb\n",
       "1        Barren or Impervious\n",
       "2             Grass/Forb/Herb\n",
       "3             Grass/Forb/Herb\n",
       "4             Grass/Forb/Herb\n",
       "                 ...         \n",
       "70264                   Trees\n",
       "70265         Grass/Forb/Herb\n",
       "70266         Grass/Forb/Herb\n",
       "70267                   Water\n",
       "70268         Grass/Forb/Herb\n",
       "Name: LandCover, Length: 69204, dtype: object"
      ]
     },
     "execution_count": 13,
     "metadata": {},
     "output_type": "execute_result"
    }
   ],
   "source": [
    "gdf.LandCover.map(landcover_mapper)"
   ]
  },
  {
   "cell_type": "code",
   "execution_count": 39,
   "id": "3d22bdb4-cd49-4822-a3de-166a0516ea15",
   "metadata": {},
   "outputs": [
    {
     "data": {
      "text/plain": [
       "Agriculture                 21920\n",
       "Forest                      19245\n",
       "Rangeland or Pasture        12042\n",
       "Developed                    9072\n",
       "Non-Processing Area Mask     3978\n",
       "Other                        2099\n",
       "Non-Forest Wetland            714\n",
       "Name: LandUse, dtype: int64"
      ]
     },
     "execution_count": 39,
     "metadata": {},
     "output_type": "execute_result"
    }
   ],
   "source": [
    "gdf.LandUse.map(landuse_mapper).value_counts()"
   ]
  },
  {
   "cell_type": "code",
   "execution_count": 30,
   "id": "17d14b5a-0c33-45ff-a800-a9878893286f",
   "metadata": {},
   "outputs": [
    {
     "data": {
      "text/plain": [
       "<AxesSubplot:ylabel='Frequency'>"
      ]
     },
     "execution_count": 30,
     "metadata": {},
     "output_type": "execute_result"
    },
    {
     "data": {
      "image/png": "[encoded data removed]",
      "text/plain": [
       "<Figure size 432x288 with 1 Axes>"
      ]
     },
     "metadata": {
      "needs_background": "light"
     },
     "output_type": "display_data"
    }
   ],
   "source": [
    "gdf.LandCover.plot(kind='hist', width=1)"
   ]
  },
  {
   "cell_type": "code",
   "execution_count": 31,
   "id": "86d41e50-ffb3-4e5b-bf44-359d9ac70d3f",
   "metadata": {},
   "outputs": [
    {
     "data": {
      "text/plain": [
       "<AxesSubplot:ylabel='Frequency'>"
      ]
     },
     "execution_count": 31,
     "metadata": {},
     "output_type": "execute_result"
    },
    {
     "data": {
      "image/png": "[encoded data removed]",
      "text/plain": [
       "<Figure size 432x288 with 1 Axes>"
      ]
     },
     "metadata": {
      "needs_background": "light"
     },
     "output_type": "display_data"
    }
   ],
   "source": [
    "gdf.LandUse.plot(kind='hist', width=1)"
   ]
  },
  {
   "cell_type": "code",
   "execution_count": 61,
   "id": "0edfd7e6-f273-41d4-b6dd-133d8a54a755",
   "metadata": {},
   "outputs": [],
   "source": [
    "lat = gdf.BEGIN_LAT.values\n",
    "lon = gdf.BEGIN_LON.values\n",
    "# js = np.array(posi[“js”][0:num],dtype=float)\n",
    "vals= gdf.LandUse.values.astype(float)\n",
    "data1 = [[lat[i],lon[i],vals[i]] for i in range(len(lat)) if not np.isnan(vals[i])]"
   ]
  },
  {
   "cell_type": "code",
   "execution_count": 62,
   "id": "4415a29e-0366-4d51-8b44-794affa6024a",
   "metadata": {},
   "outputs": [],
   "source": [
    "map_osm = folium.Map(location=[29.97,-102.97],zoom_start=5,tiles='StamenTerrain',control_scale=True)\n",
    "HeatMap(data1).add_to(map_osm)\n",
    "out = r\"tornado_loc.html\"\n",
    "map_osm.save(out)"
   ]
  },
  {
   "cell_type": "code",
   "execution_count": 63,
   "id": "203a3e53-0d15-4597-a718-dafe338874ba",
   "metadata": {},
   "outputs": [
    {
     "data": {
      "text/plain": [
       "True"
      ]
     },
     "execution_count": 63,
     "metadata": {},
     "output_type": "execute_result"
    }
   ],
   "source": [
    "webbrowser.open(out)"
   ]
  },
  {
   "cell_type": "code",
   "execution_count": null,
   "id": "f5ba77e8-9fd6-4d77-9b80-21fa5593076c",
   "metadata": {},
   "outputs": [],
   "source": []
  }
 ],
 "metadata": {
  "kernelspec": {
   "display_name": "Python 3 (ipykernel)",
   "language": "python",
   "name": "python3"
  },
  "language_info": {
   "codemirror_mode": {
    "name": "ipython",
    "version": 3
   },
   "file_extension": ".py",
   "mimetype": "text/x-python",
   "name": "python",
   "nbconvert_exporter": "python",
   "pygments_lexer": "ipython3",
   "version": "3.8.12"
  }
 },
 "nbformat": 4,
 "nbformat_minor": 5
}
