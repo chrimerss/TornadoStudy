{
 "cells": [
  {
   "cell_type": "code",
   "execution_count": 1,
   "id": "cba9eb67-4331-45bd-bf34-39fd69db6e57",
   "metadata": {},
   "outputs": [],
   "source": [
    "import ee\n",
    "import geemap\n",
    "import matplotlib.pyplot as plt\n",
    "import numpy as np\n",
    "import pandas as pd\n",
    "import geopandas as gpd"
   ]
  },
  {
   "cell_type": "code",
   "execution_count": 44,
   "id": "84592405-42e3-446f-b13d-ab96ec7f76a7",
   "metadata": {},
   "outputs": [],
   "source": [
    "import folium\n",
    "from folium.plugins import HeatMap\n",
    "import webbrowser"
   ]
  },
  {
   "cell_type": "code",
   "execution_count": 24,
   "id": "0a7c1ddf-1ca2-4e32-84e5-01e1adabc505",
   "metadata": {},
   "outputs": [],
   "source": [
    "import warnings\n",
    "warnings.filterwarnings(\"ignore\")"
   ]
  },
  {
   "cell_type": "code",
   "execution_count": 2,
   "id": "e00865e6-a6c1-48f4-bb49-223f09c6944d",
   "metadata": {},
   "outputs": [],
   "source": [
    "ee.Initialize()"
   ]
  },
  {
   "cell_type": "code",
   "execution_count": 3,
   "id": "0920def8-5bc5-44c1-a761-82e4674c3f9b",
   "metadata": {},
   "outputs": [
    {
     "name": "stderr",
     "output_type": "stream",
     "text": [
      "/Users/hydros/miniconda3/envs/gee/lib/python3.8/site-packages/IPython/core/interactiveshell.py:3444: DtypeWarning: Columns (17,26,27,29,35,36,38,40,41,43,44,49,50) have mixed types.Specify dtype option on import or set low_memory=False.\n",
      "  exec(code_obj, self.user_global_ns, self.user_ns)\n"
     ]
    }
   ],
   "source": [
    "df= pd.read_csv('extracted_tornado.csv')"
   ]
  },
  {
   "cell_type": "code",
   "execution_count": 7,
   "id": "10165236-2217-409e-b663-d8dcf765c080",
   "metadata": {},
   "outputs": [],
   "source": [
    "gdf= gpd.GeoDataFrame(df, geometry=gpd.points_from_xy(df.BEGIN_LON, df.BEGIN_LAT))"
   ]
  },
  {
   "cell_type": "code",
   "execution_count": 3,
   "id": "002e0e9a-41f3-4305-b7f7-2d323225ea65",
   "metadata": {},
   "outputs": [],
   "source": [
    "gdf= gpd.read_file('tornado_loc.shp')"
   ]
  },
  {
   "cell_type": "code",
   "execution_count": 7,
   "id": "56a40a03-e411-41e0-bbf5-0d6dcf44abd4",
   "metadata": {},
   "outputs": [],
   "source": [
    "gdf['year']= gdf.BEGIN_YEAR//100"
   ]
  },
  {
   "cell_type": "code",
   "execution_count": 8,
   "id": "e003f304-e594-4385-acd3-d5a3243df5ba",
   "metadata": {},
   "outputs": [],
   "source": [
    "gdf['LandCover']= None\n",
    "gdf['LandUse']= None"
   ]
  },
  {
   "cell_type": "code",
   "execution_count": 9,
   "id": "98f86310-8c75-41ea-a07a-f51d92752bdd",
   "metadata": {},
   "outputs": [],
   "source": [
    "gdf= gdf[~pd.isna(gdf.BEGIN_LON)]"
   ]
  },
  {
   "cell_type": "code",
   "execution_count": 10,
   "id": "72638887-f701-4b6a-8733-937d1ec04b48",
   "metadata": {
    "scrolled": true,
    "tags": []
   },
   "outputs": [],
   "source": [
    "ee_values= {'landcover':[], 'landuse':[],'coords':[]}\n",
    "for year in gdf.year.unique():\n",
    "    if year<=1985:\n",
    "        tar_year= 1985\n",
    "    else: tar_year=year\n",
    "    \n",
    "    landcover= ee.Image('USFS/GTAC/LCMS/v2020-5/LCMS_CONUS_v2020-5_%d'%tar_year).select(1)\n",
    "    landuse= ee.Image('USFS/GTAC/LCMS/v2020-5/LCMS_CONUS_v2020-5_%d'%tar_year).select(2)        \n",
    "    _gdf= gdf[gdf.year==year]\n",
    "    points= ee.Geometry.MultiPoint([[_gdf.iloc[j].BEGIN_LON, _gdf.iloc[j].BEGIN_LAT] for j in range(len(_gdf))])\n",
    "    return_js= landcover.sampleRegions(collection=points, scale=30, geometries=True)\n",
    "    return_dict= return_js.getInfo()\n",
    "    lcs= [feature['properties']['Land_Cover'] for feature in return_dict['features']]\n",
    "    return_js= landuse.sampleRegions(collection=points, scale=30, geometries=True)\n",
    "    return_dict= return_js.getInfo()    \n",
    "    lus= [feature['properties']['Land_Use'] for feature in return_dict['features']]\n",
    "    coords= [feature['geometry']['coordinates'] for feature in return_dict['features']]\n",
    "    ee_values['landcover'].append(lcs)\n",
    "    ee_values['landuse'].append(lus)\n",
    "    ee_values['coords'].append(coords)\n",
    "    \n",
    "coords= sum(ee_values['coords'],[])\n",
    "lus= sum(ee_values['landuse'],[])\n",
    "lcs=sum(ee_values['landcover'],[])\n",
    "\n",
    "# for i, [lon, lat] in enumerate(coords):\n",
    "#     inds= gdf[(abs(gdf.BEGIN_LON-lon)<1e-4) & (abs(gdf.BEGIN_LAT-lat)<1e-4)].index\n",
    "#     gdf.loc[inds,'LandCover']= lcs[i]    \n",
    "#     gdf.loc[inds,'LandUse']= lus[i]"
   ]
  },
  {
   "cell_type": "code",
   "execution_count": 14,
   "id": "8b7a58be-a1e7-4f4f-b3e0-f2029ee05205",
   "metadata": {},
   "outputs": [
    {
     "data": {
      "text/plain": [
       "69204"
      ]
     },
     "execution_count": 14,
     "metadata": {},
     "output_type": "execute_result"
    }
   ],
   "source": [
    "len(gdf)"
   ]
  },
  {
   "cell_type": "code",
   "execution_count": 13,
   "id": "58b77057-ed90-4f69-8b27-f71f2465a28d",
   "metadata": {},
   "outputs": [
    {
     "data": {
      "text/plain": [
       "67844"
      ]
     },
     "execution_count": 13,
     "metadata": {},
     "output_type": "execute_result"
    }
   ],
   "source": [
    "len(lus)"
   ]
  },
  {
   "cell_type": "code",
   "execution_count": 15,
   "id": "fc94c9e4-4f3e-4cad-b3da-2e68ea77fa92",
   "metadata": {},
   "outputs": [
    {
     "data": {
      "text/plain": [
       "67844"
      ]
     },
     "execution_count": 15,
     "metadata": {},
     "output_type": "execute_result"
    }
   ],
   "source": [
    "len(coords)"
   ]
  },
  {
   "cell_type": "code",
   "execution_count": 25,
   "id": "3eefa73b-3b69-4197-892e-b611646d7233",
   "metadata": {},
   "outputs": [],
   "source": [
    "for i, [lon, lat] in enumerate(coords):\n",
    "    inds= gdf[(abs(gdf.BEGIN_LON-lon)<1e-3) & (abs(gdf.BEGIN_LAT-lat)<1e-3)].index\n",
    "    gdf.loc[inds,'LandCover']= lcs[i]    \n",
    "    gdf.loc[inds,'LandUse']= lus[i]"
   ]
  },
  {
   "cell_type": "code",
   "execution_count": 11,
   "id": "679acfb4-3eb4-417b-b858-6cdac37010f0",
   "metadata": {},
   "outputs": [],
   "source": [
    "landcover_mapper= {\n",
    "1: \"Trees\",\n",
    "2: \"Tall Shrubs & Trees Mix (SEAK Only)\",\n",
    "3: \"Shrubs & Trees Mix\",\n",
    "4: \"Grass/Forb/Herb & Trees Mix\",\n",
    "5: \"Barren & Trees Mix\",\n",
    "6: \"Tall Shrubs (SEAK Only)\",\n",
    "7: \"Shrubs\",\n",
    "8: \"Grass/Forb/Herb & Shrubs Mix\",\n",
    "9: \"Barren & Shrubs Mix\",\n",
    "10:\"Grass/Forb/Herb\",\n",
    "11:\"Barren & Grass/Forb/Herb Mix\",\n",
    "12:\"Barren or Impervious\",\n",
    "13:\"Snow or Ice\",\n",
    "14:\"Water\",\n",
    "15:\"Non-Processing Area Mask\"\n",
    "}\n",
    "\n",
    "landuse_mapper = {\n",
    "1: \"Agriculture\",\n",
    "2: \"Developed\",\n",
    "3: \"Forest\",\n",
    "4: \"Non-Forest Wetland\",\n",
    "5: \"Other\",\n",
    "6: \"Rangeland or Pasture\",\n",
    "7: \"Non-Processing Area Mask\",\n",
    "}"
   ]
  },
  {
   "cell_type": "code",
   "execution_count": 37,
   "id": "db7b6005-d1d8-45d4-8456-dded7a67816a",
   "metadata": {},
   "outputs": [
    {
     "data": {
      "text/plain": [
       "Grass/Forb/Herb                 36503\n",
       "Trees                           18129\n",
       "Non-Processing Area Mask         5412\n",
       "Barren or Impervious             3817\n",
       "Water                            2001\n",
       "Grass/Forb/Herb & Shrubs Mix     1644\n",
       "Grass/Forb/Herb & Trees Mix      1157\n",
       "Shrubs                            276\n",
       "Barren & Shrubs Mix               121\n",
       "Shrubs & Trees Mix                  7\n",
       "Barren & Grass/Forb/Herb Mix        3\n",
       "Name: LandCover, dtype: int64"
      ]
     },
     "execution_count": 37,
     "metadata": {},
     "output_type": "execute_result"
    }
   ],
   "source": [
    "gdf.LandCover.map(landcover_mapper).value_counts()"
   ]
  },
  {
   "cell_type": "code",
   "execution_count": 39,
   "id": "3d22bdb4-cd49-4822-a3de-166a0516ea15",
   "metadata": {},
   "outputs": [
    {
     "data": {
      "text/plain": [
       "Agriculture                 21920\n",
       "Forest                      19245\n",
       "Rangeland or Pasture        12042\n",
       "Developed                    9072\n",
       "Non-Processing Area Mask     3978\n",
       "Other                        2099\n",
       "Non-Forest Wetland            714\n",
       "Name: LandUse, dtype: int64"
      ]
     },
     "execution_count": 39,
     "metadata": {},
     "output_type": "execute_result"
    }
   ],
   "source": [
    "gdf.LandUse.map(landuse_mapper).value_counts()"
   ]
  },
  {
   "cell_type": "code",
   "execution_count": 30,
   "id": "17d14b5a-0c33-45ff-a800-a9878893286f",
   "metadata": {},
   "outputs": [
    {
     "data": {
      "text/plain": [
       "<AxesSubplot:ylabel='Frequency'>"
      ]
     },
     "execution_count": 30,
     "metadata": {},
     "output_type": "execute_result"
    },
    {
     "data": {
      "image/png": "[encoded data removed]",
      "text/plain": [
       "<Figure size 432x288 with 1 Axes>"
      ]
     },
     "metadata": {
      "needs_background": "light"
     },
     "output_type": "display_data"
    }
   ],
   "source": [
    "gdf.LandCover.plot(kind='hist', width=1)"
   ]
  },
  {
   "cell_type": "code",
   "execution_count": 31,
   "id": "86d41e50-ffb3-4e5b-bf44-359d9ac70d3f",
   "metadata": {},
   "outputs": [
    {
     "data": {
      "text/plain": [
       "<AxesSubplot:ylabel='Frequency'>"
      ]
     },
     "execution_count": 31,
     "metadata": {},
     "output_type": "execute_result"
    },
    {
     "data": {
      "image/png": "[encoded data removed]",
      "text/plain": [
       "<Figure size 432x288 with 1 Axes>"
      ]
     },
     "metadata": {
      "needs_background": "light"
     },
     "output_type": "display_data"
    }
   ],
   "source": [
    "gdf.LandUse.plot(kind='hist', width=1)"
   ]
  },
  {
   "cell_type": "code",
   "execution_count": 61,
   "id": "0edfd7e6-f273-41d4-b6dd-133d8a54a755",
   "metadata": {},
   "outputs": [],
   "source": [
    "lat = gdf.BEGIN_LAT.values\n",
    "lon = gdf.BEGIN_LON.values\n",
    "# js = np.array(posi[“js”][0:num],dtype=float)\n",
    "vals= gdf.LandUse.values.astype(float)\n",
    "data1 = [[lat[i],lon[i],vals[i]] for i in range(len(lat)) if not np.isnan(vals[i])]"
   ]
  },
  {
   "cell_type": "code",
   "execution_count": 62,
   "id": "4415a29e-0366-4d51-8b44-794affa6024a",
   "metadata": {},
   "outputs": [],
   "source": [
    "map_osm = folium.Map(location=[29.97,-102.97],zoom_start=5,tiles='StamenTerrain',control_scale=True)\n",
    "HeatMap(data1).add_to(map_osm)\n",
    "out = r\"tornado_loc.html\"\n",
    "map_osm.save(out)"
   ]
  },
  {
   "cell_type": "code",
   "execution_count": 63,
   "id": "203a3e53-0d15-4597-a718-dafe338874ba",
   "metadata": {},
   "outputs": [
    {
     "data": {
      "text/plain": [
       "True"
      ]
     },
     "execution_count": 63,
     "metadata": {},
     "output_type": "execute_result"
    }
   ],
   "source": [
    "webbrowser.open(out)"
   ]
  },
  {
   "cell_type": "code",
   "execution_count": null,
   "id": "f5ba77e8-9fd6-4d77-9b80-21fa5593076c",
   "metadata": {},
   "outputs": [],
   "source": []
  }
 ],
 "metadata": {
  "kernelspec": {
   "display_name": "Python 3 (ipykernel)",
   "language": "python",
   "name": "python3"
  },
  "language_info": {
   "codemirror_mode": {
    "name": "ipython",
    "version": 3
   },
   "file_extension": ".py",
   "mimetype": "text/x-python",
   "name": "python",
   "nbconvert_exporter": "python",
   "pygments_lexer": "ipython3",
   "version": "3.8.12"
  }
 },
 "nbformat": 4,
 "nbformat_minor": 5
}
